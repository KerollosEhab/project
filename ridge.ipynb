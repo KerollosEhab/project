{
 "cells": [
  {
   "cell_type": "code",
   "execution_count": null,
   "metadata": {},
   "outputs": [],
   "source": [
    "\n",
    "y = df['fy_gpa']                            # Extract the 'fy_gba' column as the target variable\n",
    "X = df.drop(['fy_gpa'], axis=1)             # Drop the 'fy_gba' column from the DataFrame and assign the remaining columns to X\n",
    "\n",
    "# Split the data into training and testing sets, with 80% for training and 20% for testing\n",
    "X_train, X_test, y_train, y_test = train_test_split(X, y, test_size=0.2,random_state=0)\n",
    "model1 = LinearRegression()                 # Create an instance of the LinearRegression model\n",
    "model1.fit(X_train, y_train)                # Fit the model using the training data\n",
    "y_hat = model1.predict(X_test)              # Predict the target variable using the test data\n",
    "\n",
    "# Calculate the mean squared error (MSE) between the actual and predicted values\n",
    "print('MSE :' , mean_squared_error(y_test, y_hat))\n",
    "plt.scatter(y_test, y_hat)\n",
    "\n",
    "# Calculate the coefficient of determination (R-squared score) between the actual and predicted values\n",
    "print('r2_score = ',r2_score(y_test, y_hat))\n",
    "\n",
    "######################################################\n",
    "# Ridge Regression\n",
    "def RIDGEREG():\n",
    "    # Global variables\n",
    "    global flag  # Indicator flag\n",
    "    global ac3  # List to store evaluation metrics\n",
    "    global lisreg  # List to store regression model information\n",
    "    global ax  # List to store mean absolute error\n",
    "    global az  # List to store root mean squared error\n",
    "    global ay  # List to store mean squared error\n",
    "\n",
    "    flag.append(4)  # Append value 4 to the flag list\n",
    "\n",
    "    y = df['fy_gpa']  # Target variable\n",
    "    X = df.drop(['fy_gpa'], axis=1)  # Features\n",
    "    X_train, X_test, y_train, y_test = train_test_split(X, y, test_size=0.2, random_state=0)\n",
    "    # Split the data into training and test sets\n",
    "\n",
    "    reg = linear_model.Ridge(alpha=0.01, fit_intercept=True)  # Create a Ridge regression object\n",
    "    reg.fit(X_train, y_train)  # Fit the regression model using training data\n",
    "    y_hat = reg.predict(X_test)  # Predict the target variable for test data\n",
    "\n",
    "    #print('MSE :' , mean_squared_error(y_test, y_hat))\n",
    "    plt.scatter(y_test, y_hat)  # Scatter plot of predicted vs. actual values\n",
    "    print('R2 :' , r2_score(y_test, y_hat))  # Compute R2 score\n",
    "\n",
    "    ax = [metrics.mean_absolute_error(y_test, y_hat)]  # Compute and store mean absolute error\n",
    "    ay = [metrics.mean_squared_error(y_test, y_hat)]  # Compute and store mean squared error\n",
    "    az = [np.sqrt(metrics.mean_squared_error(y_test, y_hat))]  # Compute and store root mean squared error\n",
    "\n",
    "    validation()  # Call the validation function\n",
    "\n",
    "    return reg  # Return the regression model"
   ]
  }
 ],
 "metadata": {
  "language_info": {
   "name": "python"
  }
 },
 "nbformat": 4,
 "nbformat_minor": 2
}
